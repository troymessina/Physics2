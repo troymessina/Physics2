{
 "cells": [
  {
   "cell_type": "markdown",
   "metadata": {},
   "source": [
    "# Riemann Sum Method to Calculate the Moment of Inertia"
   ]
  },
  {
   "cell_type": "markdown",
   "metadata": {},
   "source": [
    "This is a tutorial on calculating the Riemann sum using the right side of the segments.\n",
    "\n",
    "We first need to import some libraries for doing math and plotting graphs in Python."
   ]
  },
  {
   "cell_type": "code",
   "execution_count": 132,
   "metadata": {},
   "outputs": [],
   "source": [
    "import numpy as np # numpy is Python's numerical library; always import it\n",
    "import scipy as sp # scipy is a scientific library; it has a few functions we'll need\n",
    "from __future__ import division, print_function # good defensive measure\n",
    "import matplotlib as mpl # a big library with plotting functionality\n",
    "import matplotlib.pyplot as plt # a subset of matplotlib with most of the useful tools\n",
    "# set figure size and font size for notebook\n",
    "mpl.rcParams['figure.figsize'] = (15,10)\n",
    "mpl.rcParams['font.size'] = 14\n",
    "mpl.rcParams['legend.fontsize'] = 14"
   ]
  },
  {
   "cell_type": "markdown",
   "metadata": {},
   "source": [
    "Let's define the equation for moment of inertia in one dimension. The equation is\n",
    "$$I =\\sum_i m_i r_i^2.$$\n",
    "We will make it one dimensional.\n",
    "$$I =\\sum_i m_i x_i^2$$\n",
    "Our next task is to break our one-dimensional object into segments of equal mass. We will assume that the density is constant. This means each equal segment mass is an equal length.\n",
    "$$I =\\Delta m \\sum_i x_i^2$$\n",
    "We will assume the object goes from $x = 0$ to $x = L$. When we break the object into segments, the position of the right side of a segment will be at\n",
    "$$x = \\frac{i}{n}L,$$\n",
    "where $n$ is the number of segments. Our moment of inertia becomes\n",
    "$$I = \\Delta m \\sum_i \\left(\\frac{i}{n}L\\right)^2 = \\Delta m \\left(\\left(\\frac{1}{n}L\\right)^2+\\left(\\frac{2}{n}L\\right)^2+\\left(\\frac{3}{n}L\\right)^2+ ... \\left(\\frac{n}{n}L\\right)^2\\right).$$\n",
    "All of the terms have $L^2$. We can factor that out to get\n",
    "$$I = \\Delta m L^2 \\left(\\left(\\frac{1}{n}\\right)^2+\\left(\\frac{2}{n}\\right)^2+\\left(\\frac{3}{n}\\right)^2+ ... \\left(\\frac{n}{n}\\right)^2\\right).$$\n",
    "\n",
    "Now, we know that $n \\Delta m = M$. If we factor out an $n$ so that we write this in terms of the total mass, we will get\n",
    "$$I = \\frac{M}{n} L^2 \\left(\\left(\\frac{1}{n}\\right)^2+\\left(\\frac{2}{n}\\right)^2+\\left(\\frac{3}{n}\\right)^2+ ... \\left(\\frac{n}{n}\\right)^2\\right).$$\n",
    "If we ignore the total mass and length for a moment, it becomes clear that we only need to calculate the fractions and square them. Then, we sum those fractions. Finally, we divide the sum by $n$.\n",
    "\n",
    "This means we can make a function that calculates the square of a value. We will then pass the fractions to that function. Here's the function that computes the square of a value."
   ]
  },
  {
   "cell_type": "code",
   "execution_count": 133,
   "metadata": {
    "collapsed": true
   },
   "outputs": [],
   "source": [
    "def inertia_rod(x):\n",
    "    return x*x"
   ]
  },
  {
   "cell_type": "markdown",
   "metadata": {},
   "source": [
    "Now, let's write another function that will calculate each of the fractions and pass it to this inertia function."
   ]
  },
  {
   "cell_type": "code",
   "execution_count": 134,
   "metadata": {
    "collapsed": true
   },
   "outputs": [],
   "source": [
    "def Riemann(fname,n):\n",
    "\n",
    "    #function:  Riemann(fname,a,b,n)\n",
    "\n",
    "    #Description:  integrates function 'fname' from a to b using the \n",
    "    #right side endpoints with n samples\n",
    "\n",
    "    #Inputs: \n",
    "        #fname   name of function to be integrated\n",
    "        #n       number of intervals\n",
    "        \n",
    "    #Outputs:\n",
    "        #I       a real number representing the value of the integral\n",
    "\n",
    "    I = 0\n",
    "    for ii in range(0, n+1, 1):#go to n+1 because it evaluates as ii < n+1\n",
    "        I += fname(ii/n) #Each segment is located with its right side at ii/n * L\n",
    "\n",
    "    I /= n\n",
    "    return I"
   ]
  },
  {
   "cell_type": "markdown",
   "metadata": {},
   "source": [
    "Make sure to test some cases where you know the result."
   ]
  },
  {
   "cell_type": "code",
   "execution_count": 135,
   "metadata": {},
   "outputs": [
    {
     "data": {
      "text/plain": [
       "0.385"
      ]
     },
     "execution_count": 135,
     "metadata": {},
     "output_type": "execute_result"
    }
   ],
   "source": [
    "Riemann(inertia_rod,10)"
   ]
  },
  {
   "cell_type": "markdown",
   "metadata": {},
   "source": [
    "Now, let's plot the Riemann sum against the number of segments to see if increasing the number of segments converges to some particulare Riemann sum."
   ]
  },
  {
   "cell_type": "code",
   "execution_count": 136,
   "metadata": {},
   "outputs": [
    {
     "name": "stdout",
     "output_type": "stream",
     "text": [
      "0.33338338505338816\n"
     ]
    },
    {
     "data": {
      "image/png": "[encoded data removed]",
      "text/plain": [
       "<matplotlib.figure.Figure at 0x7fde466df080>"
      ]
     },
     "metadata": {},
     "output_type": "display_data"
    }
   ],
   "source": [
    "xx = np.array([]) #Make a list of x values (number of segments) where the Riemann sum is calculated\n",
    "yy = np.array([]) #Make a list of y values (Riemann sum)\n",
    "maxn = 10000 #Set the maximum number of segments to be calculated\n",
    "\n",
    "for jj in range(10, maxn, 10): #Loop to calculate various numbers of segments from 10 to maxn in steps of 10\n",
    "    tempx = jj #Create the x value\n",
    "    tempy = Riemann(inertia, jj) #Calculate the y value\n",
    "    xx = np.append(xx, tempx) #Insert the x value into the list at the end\n",
    "    yy = np.append(yy, tempy) #Insert they y value into the list at the end\n",
    "\n",
    "print (tempy) #Print the very last Riemann sum calculated with maxn segments\n",
    "#Let's make a plot to see if there is a convergence as number of segments increases\n",
    "plt.plot(xx, yy)\n",
    "plt.ylabel('Riemann Sum')\n",
    "plt.xlabel('Number of Segments')\n",
    "plt.axis([0, maxn, 0.32, 0.385])\n",
    "plt.show()"
   ]
  },
  {
   "cell_type": "markdown",
   "metadata": {},
   "source": [
    "Okay, we get a convergence near $1/3$, which means our inertia must be $$I = \\frac{ML^2}{3}.$$ Let's see if we can make this more generic so that we can place the origin $x = 0$ anywhere along the rod."
   ]
  },
  {
   "cell_type": "code",
   "execution_count": 105,
   "metadata": {
    "collapsed": true
   },
   "outputs": [],
   "source": [
    "def Riemann2(fname,a,b,n):\n",
    "\n",
    "    #function:  Riemann(fname,a,b,n)\n",
    "\n",
    "    #Description:  integrates function 'fname' from a to b using the \n",
    "    #right side endpoints with n samples\n",
    "\n",
    "    #Inputs: \n",
    "        #fname   name of function to be integrated\n",
    "        #a       left hand endpoint\n",
    "        #b       right hand endpoint\n",
    "        #n       number of intervals\n",
    "        \n",
    "    #Outputs:\n",
    "        #I       a real number representing the value of the integral\n",
    "\n",
    "    I = 0\n",
    "    h = (b-a)/n # this is the segment length\n",
    "    ii = 0\n",
    "    current_position = a\n",
    "    while current_position <= b:\n",
    "        current_position += h\n",
    "        I += fname(current_position) #Each segment is located with its right side at ii/n * L\n",
    "\n",
    "    I /= n\n",
    "    return I"
   ]
  },
  {
   "cell_type": "code",
   "execution_count": 106,
   "metadata": {},
   "outputs": [
    {
     "data": {
      "text/plain": [
       "0.08333350000000012"
      ]
     },
     "execution_count": 106,
     "metadata": {},
     "output_type": "execute_result"
    }
   ],
   "source": [
    "Riemann2(inertia_rod, -0.5,0.5,1000)"
   ]
  },
  {
   "cell_type": "code",
   "execution_count": 112,
   "metadata": {},
   "outputs": [
    {
     "name": "stdout",
     "output_type": "stream",
     "text": [
      "0.08335837004938254\n"
     ]
    },
    {
     "data": {
      "image/png": "[encoded data removed]",
      "text/plain": [
       "<matplotlib.figure.Figure at 0x7fde469c0be0>"
      ]
     },
     "metadata": {},
     "output_type": "display_data"
    }
   ],
   "source": [
    "xx2 = np.array([]) #Make a list of x values (number of segments) where the Riemann sum is calculated\n",
    "yy2 = np.array([]) #Make a list of y values (Riemann sum)\n",
    "maxn = 10000 #Set the maximum number of segments to be calculated\n",
    "\n",
    "for jj in range(10, maxn, 10): #Loop to calculate various numbers of segments from 10 to maxn in steps of 10\n",
    "    tempx = jj #Create the x value\n",
    "    tempy = Riemann2(inertia, -0.5, 0.5, jj) #Calculate the y value\n",
    "    xx2 = np.append(xx2, tempx) #Insert the x value into the list at the end\n",
    "    yy2 = np.append(yy2, tempy) #Insert they y value into the list at the end\n",
    "\n",
    "print (tempy) #Print the very last Riemann sum calculated with maxn segments\n",
    "#Let's make a plot to see if there is a convergence as number of segments increases\n",
    "plt.plot(xx2, yy2)\n",
    "plt.ylabel('Riemann Sum')\n",
    "plt.xlabel('Number of Segments')\n",
    "plt.axis([0, maxn, 0.08, 0.09])\n",
    "plt.show()"
   ]
  },
  {
   "cell_type": "code",
   "execution_count": null,
   "metadata": {
    "collapsed": true
   },
   "outputs": [],
   "source": []
  }
 ],
 "metadata": {
  "celltoolbar": "Slideshow",
  "kernelspec": {
   "display_name": "Python 3",
   "language": "python",
   "name": "python3"
  },
  "language_info": {
   "codemirror_mode": {
    "name": "ipython",
    "version": 3
   },
   "file_extension": ".py",
   "mimetype": "text/x-python",
   "name": "python",
   "nbconvert_exporter": "python",
   "pygments_lexer": "ipython3",
   "version": "3.5.1"
  }
 },
 "nbformat": 4,
 "nbformat_minor": 2
}
